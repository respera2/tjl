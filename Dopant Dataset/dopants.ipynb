{
  "cells": [
    {
      "cell_type": "code",
      "execution_count": 1,
      "metadata": {
        "id": "O3icqgnEXu4W"
      },
      "outputs": [],
      "source": [
        "import pandas as pd\n",
        "import numpy as np\n",
        "import pandas as pd\n",
        "import os\n",
        "from matplotlib import image\n",
        "import matplotlib.pyplot as plt\n",
        "from tqdm import tqdm"
      ]
    },
    {
      "cell_type": "code",
      "execution_count": 2,
      "metadata": {
        "id": "pcykCRtdXvVH"
      },
      "outputs": [],
      "source": [
        "import codecs\n",
        "\n",
        "def find_orbitals(filename):\n",
        "  with codecs.open(filename, 'r', encoding='utf-8', errors='ignore') as f:\n",
        "    orbitals = []\n",
        "    inner_orbitals = []\n",
        "    parse = False\n",
        "    for line in f:\n",
        "      #start exctract text\n",
        "      if 'ORBITAL ENERGIES' in line:\n",
        "        parse = True\n",
        "        next(f)\n",
        "        next(f)\n",
        "        continue\n",
        "\n",
        "      if parse:\n",
        "        if len(line.split()) == 0:\n",
        "          orbitals.append(inner_orbitals)\n",
        "          inner_orbitals = []\n",
        "          break\n",
        "        else:\n",
        "          inner_orbitals.append(line)\n",
        "\n",
        "  return orbitals[-1]"
      ]
    },
    {
      "cell_type": "code",
      "execution_count": 3,
      "metadata": {
        "id": "hnCTx0ZqXyGk"
      },
      "outputs": [],
      "source": [
        "import pandas as pd\n",
        "\n",
        "def Extract(i, lst):\n",
        "  return [item[i] for item in lst]\n",
        "\n",
        "def clean_data(filename):\n",
        "  orbital_list = find_orbitals(filename)\n",
        "  rows = []\n",
        "\n",
        "  for x in range(1, len(orbital_list)):\n",
        "    rows.append(orbital_list[x].split())\n",
        "\n",
        "  data = np.array(rows)\n",
        "\n",
        "  no = Extract(0, data)\n",
        "  occ = Extract(1, data)\n",
        "  eeh = Extract(2, data)\n",
        "  eev = Extract(3, data)\n",
        "\n",
        "  dict = {'NO': no, 'OCC': occ, 'E(Eh)': eeh, 'E(eV)': eev}\n",
        "\n",
        "  df = pd.DataFrame(dict)\n",
        "\n",
        "\n",
        "  return df"
      ]
    },
    {
      "cell_type": "code",
      "execution_count": 4,
      "metadata": {
        "id": "4rxYwaptPFnl"
      },
      "outputs": [],
      "source": [
        "def find_homo_lumo(df):\n",
        "  for index in range(len(df)):\n",
        "    next_index = index + 1;\n",
        "    if (df.loc[index, \"OCC\"] == \"2.0000\") and (df.loc[next_index, \"OCC\"] == \"0.0000\"):\n",
        "      previous_index = index - 1\n",
        "      last_index = next_index + 1\n",
        "      new_df = df.drop(df.index[:previous_index])\n",
        "      edited_df = new_df.drop(df.index[last_index + 1:])\n",
        "\n",
        "  return edited_df"
      ]
    },
    {
      "cell_type": "code",
      "execution_count": 5,
      "metadata": {
        "id": "bSq8k1x2z4Pm"
      },
      "outputs": [],
      "source": [
        "full_df = pd.DataFrame(columns=['HOMO - 1', 'HOMO', 'LUMO', 'LUMO + 1', 'SMILES String'])"
      ]
    },
    {
      "cell_type": "code",
      "execution_count": 6,
      "metadata": {
        "id": "phePFhj41HLF"
      },
      "outputs": [],
      "source": [
        "def add_to_df(name, df, smiles):\n",
        "  df = df.T\n",
        "  entries = df.iloc[3, :].tolist()\n",
        "  entries.append(smiles)\n",
        "  full_df.loc[name] = entries"
      ]
    },
    {
      "cell_type": "code",
      "execution_count": 7,
      "metadata": {
        "colab": {
          "base_uri": "https://localhost:8080/"
        },
        "id": "whjw9KoMZ1Qf",
        "outputId": "7fc3b70a-4f90-4a70-c9e2-1e355d3c0507"
      },
      "outputs": [],
      "source": [
        "libenFull = clean_data('/Users/reesaespera/Desktop/tjl/Liben/Liben.out')\n",
        "liben = find_homo_lumo(libenFull)\n",
        "smiles = '[Li+].[O-]C(=O)c1ccccc1'\n",
        "\n",
        "\n",
        "add_to_df('Lithium benzoate', liben, smiles)"
      ]
    },
    {
      "cell_type": "code",
      "execution_count": 8,
      "metadata": {
        "colab": {
          "base_uri": "https://localhost:8080/"
        },
        "id": "Jpla_jcvfJV0",
        "outputId": "68c2ca43-3e94-4c94-d571-2692719986b9"
      },
      "outputs": [],
      "source": [
        "dbn = clean_data('/Users/reesaespera/Desktop/tjl/DBN/DBN.out')\n",
        "find_homo_lumo(dbn)\n",
        "dbn_smiles = \"C1CC2=NCCCN2C1\"\n",
        "\n",
        "add_to_df('DBN', find_homo_lumo(dbn), dbn_smiles)"
      ]
    },
    {
      "cell_type": "code",
      "execution_count": 10,
      "metadata": {
        "colab": {
          "base_uri": "https://localhost:8080/"
        },
        "id": "qbch4kqycIgj",
        "outputId": "bfdbc3d1-5d33-4125-c255-3faf92414783"
      },
      "outputs": [],
      "source": [
        "znc6f52 = clean_data('/Users/reesaespera/Desktop/tjl/ZnC6F52/ZnC6F52.out')\n",
        "find_homo_lumo(znc6f52)\n",
        "znc6f52_smiles = \"[C-]1=C(C(=C(C(=C1F)F)F)F)F.[C-]1=C(C(=C(C(=C1F)F)F)F)F.[Zn+2]\"\n",
        "\n",
        "\n",
        "add_to_df('ZnC6F52', find_homo_lumo(znc6f52), znc6f52_smiles)"
      ]
    },
    {
      "cell_type": "code",
      "execution_count": 11,
      "metadata": {
        "colab": {
          "base_uri": "https://localhost:8080/"
        },
        "id": "-9pnnGOzfP7H",
        "outputId": "3ec92ffb-6a5d-4b8a-f5b3-03a10732daea"
      },
      "outputs": [],
      "source": [
        "bf3 = clean_data('/Users/reesaespera/Desktop/tjl/BF3/BF3.out')\n",
        "find_homo_lumo(bf3)\n",
        "bf3_smiles = \"FB(F)F\"\n",
        "\n",
        "add_to_df('BF3', find_homo_lumo(bf3), bf3_smiles)"
      ]
    },
    {
      "cell_type": "code",
      "execution_count": 12,
      "metadata": {
        "colab": {
          "base_uri": "https://localhost:8080/"
        },
        "id": "iP3Ar576fe01",
        "outputId": "ca1210f5-eb0b-44ae-eeaf-5d56fb74c561"
      },
      "outputs": [],
      "source": [
        "acOr = clean_data('/Users/reesaespera/Desktop/tjl/AcOr/AcOr.out')\n",
        "find_homo_lumo(acOr)\n",
        "acor_smiles = 'CN(C)c3ccc2cc1ccc(cc1nc2c3)N(C)C'\n",
        "\n",
        "add_to_df('Acridine Orange', find_homo_lumo(acOr), acor_smiles)"
      ]
    },
    {
      "cell_type": "code",
      "execution_count": 14,
      "metadata": {
        "colab": {
          "base_uri": "https://localhost:8080/"
        },
        "id": "3h3nM1adfmyD",
        "outputId": "5ac64341-33d0-4c2c-b2e2-5134afb47419"
      },
      "outputs": [],
      "source": [
        "tbaf = clean_data('/Users/reesaespera/Desktop/tjl/TBAF/TBAF.out')\n",
        "find_homo_lumo(tbaf)\n",
        "tbaf_smiles = \"CCCC[N+](CCCC)(CCCC)CCCC.O.[F-]\"\n",
        "add_to_df('TBAF', find_homo_lumo(tbaf), tbaf_smiles)"
      ]
    },
    {
      "cell_type": "code",
      "execution_count": 15,
      "metadata": {
        "colab": {
          "base_uri": "https://localhost:8080/"
        },
        "id": "FloLrGGJyV5M",
        "outputId": "2f5b3ee2-5417-4bb7-b135-78452dc87dde"
      },
      "outputs": [],
      "source": [
        "pyb_full = clean_data('/Users/reesaespera/Desktop/tjl/PyB/Py_B.out')\n",
        "pyb_smiles = 'CCN(CC)C1=CC2=C(C=C1)C=C3C=CC(=[N+](CC)CC)C=C3O2.[Cl-]'\n",
        "\n",
        "add_to_df('Pyronin B', find_homo_lumo(pyb_full), pyb_smiles)"
      ]
    },
    {
      "cell_type": "code",
      "execution_count": 16,
      "metadata": {
        "id": "ElyTLW0VX2-e"
      },
      "outputs": [],
      "source": [
        "ndi_n = clean_data('/Users/reesaespera/Desktop/tjl/NDI-N/NDI-N.out')\n",
        "smiles = 'CN(C)CCCn1c(=O)c2c3c(c1=O)ccc1c3c(cc2)c(=O)n(c1=O)CCCN(C)C'\n",
        "\n",
        "add_to_df('NDI-N', find_homo_lumo(ndi_n), smiles)"
      ]
    },
    {
      "cell_type": "code",
      "execution_count": 17,
      "metadata": {
        "colab": {
          "base_uri": "https://localhost:8080/"
        },
        "id": "Ict8c1BuabmC",
        "outputId": "8ae074d1-e29f-4f06-b286-426de5620e24"
      },
      "outputs": [],
      "source": [
        "dq = clean_data('/Users/reesaespera/Desktop/tjl/DQ/DQ.out')\n",
        "dq_smiles = 'c1ccn2c(=c3n(CC2)cccc3)c1'\n",
        "\n",
        "add_to_df('DQ', find_homo_lumo(dq), dq_smiles)"
      ]
    },
    {
      "cell_type": "code",
      "execution_count": 18,
      "metadata": {
        "colab": {
          "base_uri": "https://localhost:8080/"
        },
        "id": "t6taT5SNao8u",
        "outputId": "488f5735-b5d1-4670-9a85-1bf0446dbe43"
      },
      "outputs": [],
      "source": [
        "bv = clean_data('/Users/reesaespera/Desktop/tjl/BV/BV.out')\n",
        "smiles = 'c1ccc(cc1)Cn1ccc(=c2ccn(cc2)Cc2ccccc2)cc1'\n",
        "\n",
        "add_to_df('BV', find_homo_lumo(bv), smiles)"
      ]
    },
    {
      "cell_type": "code",
      "execution_count": 19,
      "metadata": {
        "colab": {
          "base_uri": "https://localhost:8080/"
        },
        "id": "8RVYhM0LaxI6",
        "outputId": "6e2a01af-3d00-4f05-8669-18de01cf7c3f"
      },
      "outputs": [],
      "source": [
        "btqbt = clean_data('/Users/reesaespera/Desktop/tjl/BTQBT/BTQBT.out')\n",
        "\n",
        "smiles = 'c5csc(=c3c1nsnc1c(=c2sccs2)c4nsnc34)s5'\n",
        "\n",
        "add_to_df('BTQBT', find_homo_lumo(btqbt), smiles)"
      ]
    },
    {
      "cell_type": "code",
      "execution_count": 23,
      "metadata": {
        "colab": {
          "base_uri": "https://localhost:8080/"
        },
        "id": "PvuS2ET7bAJr",
        "outputId": "1b6a3a11-3936-43aa-d2ca-30acf67e9eba"
      },
      "outputs": [],
      "source": [
        "bcf = clean_data('/Users/reesaespera/Desktop/tjl/BCF/BCF.out')\n",
        "smiles = 'c1(c(c(c(c(c1F)F)F)B(c1c(c(c(c(c1F)F)F)F)F)c1c(c(c(c(c1F)F)F)F)F)F)F'\n",
        "\n",
        "add_to_df('BCF', find_homo_lumo(bcf), smiles)"
      ]
    },
    {
      "cell_type": "code",
      "execution_count": 20,
      "metadata": {
        "colab": {
          "base_uri": "https://localhost:8080/"
        },
        "id": "yki-L31XbLYf",
        "outputId": "c3db6c03-69e4-4c1a-bc36-daa9dedd7de2"
      },
      "outputs": [],
      "source": [
        "p_me_dmbi = clean_data('/Users/reesaespera/Desktop/tjl/p-Me-DMBI/p-Me-DMBI.out')\n",
        "smiles = 'c1ccc(c(c1)NC)N(Cc1ccc(cc1)C)C'\n",
        "\n",
        "add_to_df('p-Me-DMBI', find_homo_lumo(p_me_dmbi), smiles)"
      ]
    },
    {
      "cell_type": "code",
      "execution_count": 22,
      "metadata": {
        "colab": {
          "base_uri": "https://localhost:8080/"
        },
        "id": "T-lZIgkAbZxF",
        "outputId": "8affe438-59b9-4678-a9c4-e8044a48d78f"
      },
      "outputs": [],
      "source": [
        "p_me_dmbi_me2 = clean_data('/Users/reesaespera/Desktop/tjl/p-Me-DMBI-Me2/p-Me-DMBI-Me2/p-Me-DMBI-Me2.out')\n",
        "smiles = 'Cc1c(C)cc2c(c1)N(C(N2C)c1ccc(cc1)C)C'\n",
        "\n",
        "add_to_df('p-Me-DMBI-Me2', find_homo_lumo(p_me_dmbi_me2), smiles)"
      ]
    },
    {
      "cell_type": "code",
      "execution_count": 24,
      "metadata": {
        "colab": {
          "base_uri": "https://localhost:8080/"
        },
        "id": "WXh7IWDPbka5",
        "outputId": "8f71e36f-6664-488f-d491-400637ee5efc"
      },
      "outputs": [],
      "source": [
        "o_meo_dmbi = clean_data('/Users/reesaespera/Desktop/tjl/o-MeO-DMBI/o-MeO-DMBI.out')\n",
        "smiles = 'COc1ccccc1C1N(C)c2ccccc2N1C'\n",
        "\n",
        "add_to_df('o-MeO-DMBI', find_homo_lumo(o_meo_dmbi), smiles)"
      ]
    },
    {
      "cell_type": "code",
      "execution_count": 25,
      "metadata": {
        "colab": {
          "base_uri": "https://localhost:8080/"
        },
        "id": "Jb2Ov6DBdB0A",
        "outputId": "ca19fe1d-ab59-47e0-9ec2-dd3fb5fd6deb"
      },
      "outputs": [],
      "source": [
        "ttn = clean_data('/Users/reesaespera/Desktop/tjl/TTN/TTN.out')\n",
        "smiles = 'c1ccc(c(c1)NC)N(Cc1ccc(cc1)C)C'\n",
        "\n",
        "add_to_df('TTN', find_homo_lumo(ttn), smiles)"
      ]
    },
    {
      "cell_type": "code",
      "execution_count": 27,
      "metadata": {
        "colab": {
          "base_uri": "https://localhost:8080/"
        },
        "id": "1ObgCSmxdI9S",
        "outputId": "0b12af54-40d3-44b1-b295-d0c69db07b70"
      },
      "outputs": [],
      "source": [
        "tdae = clean_data('/Users/reesaespera/Desktop/tjl/TDAE/TDAE/tdae.out')\n",
        "smiles = 'C(C(N(C)C)N(C)C)(N(C)C)N(C)C'\n",
        "\n",
        "add_to_df('TDAE', find_homo_lumo(tdae), smiles)"
      ]
    },
    {
      "cell_type": "code",
      "execution_count": 29,
      "metadata": {
        "colab": {
          "base_uri": "https://localhost:8080/"
        },
        "id": "0nezTW-pdXoq",
        "outputId": "28735c6b-66ab-45cc-bbd2-793c33de28c1"
      },
      "outputs": [],
      "source": [
        "tbd = clean_data('/Users/reesaespera/Desktop/tjl/TBD/TBD/TBD.out')\n",
        "smiles = 'C1CN2C(=NCCC2)NC1'\n",
        "\n",
        "add_to_df('TBD', find_homo_lumo(tbd), smiles)"
      ]
    },
    {
      "cell_type": "code",
      "execution_count": 32,
      "metadata": {
        "colab": {
          "base_uri": "https://localhost:8080/"
        },
        "id": "Vj7pyhzgd9Ww",
        "outputId": "c3d7fdef-db02-46f6-bd6d-9c675b05e3d9"
      },
      "outputs": [],
      "source": [
        "tam = clean_data('/Users/reesaespera/Desktop/tjl/TAM/TAM/TAM.out')\n",
        "smiles = 'C1CN2[C@H]3N(C1)CCCN3CCC2'\n",
        "\n",
        "add_to_df('TAM', find_homo_lumo(tam), smiles)"
      ]
    },
    {
      "cell_type": "code",
      "execution_count": 34,
      "metadata": {
        "colab": {
          "base_uri": "https://localhost:8080/"
        },
        "id": "X1oCJoYAeW9i",
        "outputId": "1c6aedcb-2a03-46b9-dacb-2de6603df0ba"
      },
      "outputs": [],
      "source": [
        "n_dmbi_me2 = clean_data('/Users/reesaespera/Desktop/tjl/N-DMBI-Me2/N-DMBI-Me2/N-DMBI-Me2.out')\n",
        "smiles = 'Cc1c(C)cc2c(c1)N(C(N2C)c1ccc(cc1)N(C)C)C'\n",
        "\n",
        "add_to_df('N-DMBI-Me2', find_homo_lumo(n_dmbi_me2), smiles)"
      ]
    },
    {
      "cell_type": "code",
      "execution_count": 35,
      "metadata": {
        "colab": {
          "base_uri": "https://localhost:8080/"
        },
        "id": "WXD1OC6UeivE",
        "outputId": "3fc06710-810a-4217-ea39-b8f66c02d36f"
      },
      "outputs": [],
      "source": [
        "f6tcnnq = clean_data('/Users/reesaespera/Desktop/tjl/F6-TCNNQ/F6-TCNNQ.out')\n",
        "smiles = 'N#CC(C#N)c1c(c(c2c(c(c(F)c(c2c1F)F)C(C#N)C#N)F)F)F'\n",
        "\n",
        "add_to_df('F6-TCNNQ', find_homo_lumo(f6tcnnq), smiles)"
      ]
    },
    {
      "cell_type": "code",
      "execution_count": 36,
      "metadata": {
        "colab": {
          "base_uri": "https://localhost:8080/"
        },
        "id": "kLtDpR21esqE",
        "outputId": "71f94777-d7f3-446b-a5df-b6b4efb0bbf3"
      },
      "outputs": [],
      "source": [
        "f2hcnq = clean_data('/Users/reesaespera/Desktop/tjl/F2-HCNQ/F2-HCNQ.out')\n",
        "smiles = 'N#CC(C#N)c1c(c(c(c(c1F)C#N)C(C#N)C#N)F)C#N'\n",
        "\n",
        "add_to_df('F2-HCNQ', find_homo_lumo(f2hcnq), smiles)"
      ]
    },
    {
      "cell_type": "code",
      "execution_count": 38,
      "metadata": {
        "colab": {
          "base_uri": "https://localhost:8080/"
        },
        "id": "uKFUo0hge0Kh",
        "outputId": "1936d8a0-6606-49b8-888d-1a90f8674840"
      },
      "outputs": [],
      "source": [
        "dpdhp = clean_data('/Users/reesaespera/Desktop/tjl/DPDHP/DPDHP/DPDHP.out')\n",
        "smiles = 'COc1ccc(cc1)[C@H]1C=C(N(C(=C1)c1ccccc1)C)c1ccccc1'\n",
        "\n",
        "add_to_df('DPDHP', find_homo_lumo(dpdhp), smiles)"
      ]
    },
    {
      "cell_type": "code",
      "execution_count": 40,
      "metadata": {
        "colab": {
          "base_uri": "https://localhost:8080/"
        },
        "id": "Z4eFvvqHe7KX",
        "outputId": "c80d8426-b584-458a-f12d-8ca68f25c74b"
      },
      "outputs": [],
      "source": [
        "dmbi_me2 = clean_data('/Users/reesaespera/Desktop/tjl/DMBI-Me2/DMBI-Me2/DMBI-Me2.out')\n",
        "smiles = 'Cc1c(C)cc2c(c1)N(C(N2C)c1ccccc1)C'\n",
        "\n",
        "add_to_df('DMBI-Me2', find_homo_lumo(dmbi_me2), smiles)"
      ]
    },
    {
      "cell_type": "code",
      "execution_count": 41,
      "metadata": {
        "colab": {
          "base_uri": "https://localhost:8080/"
        },
        "id": "qoz8sK95fCHS",
        "outputId": "d635c80a-3f5e-42cb-9e84-691a44142153"
      },
      "outputs": [],
      "source": [
        "dbu = clean_data('/Users/reesaespera/Desktop/tjl/DBU/DBU.out')\n",
        "smiles = 'C1CCC2=NCCCN2CC1'\n",
        "\n",
        "add_to_df('DBU', find_homo_lumo(dbu), smiles)"
      ]
    },
    {
      "cell_type": "code",
      "execution_count": 42,
      "metadata": {
        "colab": {
          "base_uri": "https://localhost:8080/"
        },
        "id": "8qPvoMIDF_eO",
        "outputId": "b8ad2db6-b865-4be0-9276-292de483709f"
      },
      "outputs": [],
      "source": [
        "aq = clean_data('/Users/reesaespera/Desktop/tjl/AQ/AQ.out')\n",
        "smiles = '[Na+].O=C1c2ccccc2C(=O)c2cc(S(=O)(=O)[O-])ccc21'\n",
        "\n",
        "add_to_df('AQ', find_homo_lumo(aq), smiles)"
      ]
    },
    {
      "cell_type": "code",
      "execution_count": 43,
      "metadata": {
        "colab": {
          "base_uri": "https://localhost:8080/"
        },
        "id": "Xxtok4B7TFgm",
        "outputId": "84c811d3-2afe-4c05-bffc-4f9ab6d607bf"
      },
      "outputs": [],
      "source": [
        "f4tcnq = clean_data('/Users/reesaespera/Desktop/tjl/F4-TCNQ/F4-TCNQ.out')\n",
        "smiles = 'N#CC(C#N)=c1c(F)c(F)c(=C(C#N)C#N)c(F)c1F'\n",
        "\n",
        "add_to_df('F4-TCNQ', find_homo_lumo(f4tcnq), smiles)"
      ]
    },
    {
      "cell_type": "code",
      "execution_count": 44,
      "metadata": {
        "colab": {
          "base_uri": "https://localhost:8080/"
        },
        "id": "c5kMvifUTRJ5",
        "outputId": "3b41153a-64d8-454c-f2d2-67d868c00679"
      },
      "outputs": [],
      "source": [
        "tcnq = clean_data('/Users/reesaespera/Desktop/tjl/TCNQ/TCNQ.out')\n",
        "smiles = 'N#CC(C#N)=c1ccc(=C(C#N)C#N)cc1'\n",
        "\n",
        "add_to_df('TCNQ', find_homo_lumo(tcnq), smiles)"
      ]
    },
    {
      "cell_type": "code",
      "execution_count": 45,
      "metadata": {
        "colab": {
          "base_uri": "https://localhost:8080/"
        },
        "id": "AK0fqylwTY9Y",
        "outputId": "c4e66710-d905-4ec2-f0e2-3def3cd109ae"
      },
      "outputs": [],
      "source": [
        "bedtttf = clean_data('/Users/reesaespera/Desktop/tjl/BEDT-TTF/BEDT-TTF.out')\n",
        "smiles = 'C1=CSC2=C(S1)SC(=C1SC3=C(SC=CS3)S1)S2'\n",
        "\n",
        "add_to_df('BEDT-TTF', find_homo_lumo(bedtttf), smiles)"
      ]
    },
    {
      "cell_type": "code",
      "execution_count": 46,
      "metadata": {
        "colab": {
          "base_uri": "https://localhost:8080/"
        },
        "id": "0Z7gUmy3UCzq",
        "outputId": "ad13cc11-9050-40fc-b53d-fddc66008e31"
      },
      "outputs": [],
      "source": [
        "crysv = clean_data('/Users/reesaespera/Desktop/tjl/Crystal_violet/Crys_vi.out')\n",
        "\n",
        "smiles = 'CN(C)C1=CC=C(C=C1)C(=C2C=CC(=[N+](C)C)C=C2)C3=CC=C(C=C3)N(C)C.[Cl-]'\n",
        "\n",
        "add_to_df('Crystal Violet', find_homo_lumo(crysv), smiles)"
      ]
    },
    {
      "cell_type": "code",
      "execution_count": 47,
      "metadata": {
        "colab": {
          "base_uri": "https://localhost:8080/"
        },
        "id": "JafgXsAtUdib",
        "outputId": "b9a88dff-262f-4ba2-d211-fde6dacd5431"
      },
      "outputs": [],
      "source": [
        "cn6cp = clean_data('/Users/reesaespera/Desktop/tjl/CN6-CP/CN6-CP.out')\n",
        "smiles = 'N#CC(C#N)=C1C(=C(C#N)C#N)C1=C(C#N)C#N'\n",
        "\n",
        "add_to_df('CN6-CP', find_homo_lumo(cn6cp), smiles)"
      ]
    },
    {
      "cell_type": "code",
      "execution_count": 48,
      "metadata": {
        "colab": {
          "base_uri": "https://localhost:8080/"
        },
        "id": "wNXyI9fKVLNU",
        "outputId": "6ec14eed-13e7-4699-bf3e-aa74215fdc2c"
      },
      "outputs": [],
      "source": [
        "tmcn3cp = clean_data('/Users/reesaespera/Desktop/tjl/TMCN3-CP/TMCN3-CP.out')\n",
        "smiles = 'O=C(C)C(C#N)=C1C(=C(C#N)C(C)=O)C1=C(C#N)C(C)=O'\n",
        "\n",
        "add_to_df('TMCN3-CP', find_homo_lumo(tmcn3cp), smiles)"
      ]
    },
    {
      "cell_type": "code",
      "execution_count": 49,
      "metadata": {
        "colab": {
          "base_uri": "https://localhost:8080/"
        },
        "id": "v0JniNZMVZNs",
        "outputId": "febe6d01-ae9a-422a-e42e-77a2951c75bd"
      },
      "outputs": [],
      "source": [
        "dbu = clean_data('/Users/reesaespera/Desktop/tjl/DBU/DBU.out')\n",
        "smiles = 'C1CCC2=NCCCN2CC1'\n",
        "\n",
        "add_to_df('DBU', find_homo_lumo(dbu), smiles)"
      ]
    },
    {
      "cell_type": "code",
      "execution_count": 50,
      "metadata": {
        "colab": {
          "base_uri": "https://localhost:8080/"
        },
        "id": "y3Ak6SgsVkGT",
        "outputId": "80cdea55-440e-4358-89d7-9caa43a6d2d1"
      },
      "outputs": [],
      "source": [
        "dmimc = clean_data('/Users/reesaespera/Desktop/tjl/DMimC/DMimC.out')\n",
        "smiles = 'c1(n(C)cc[n+]1[CH2-])C(=O)[O-]'\n",
        "\n",
        "add_to_df('DMimC', find_homo_lumo(dmimc), smiles)"
      ]
    },
    {
      "cell_type": "code",
      "execution_count": 51,
      "metadata": {
        "colab": {
          "base_uri": "https://localhost:8080/"
        },
        "id": "XuvutHqdWiNF",
        "outputId": "398cebf3-87cc-4aa2-b216-9c26239b165a"
      },
      "outputs": [],
      "source": [
        "omeodmbicl = clean_data('/Users/reesaespera/Desktop/tjl/o-MeO-DMBI-Cl/o-MeO-DMBI-Cl.out')\n",
        "\n",
        "smiles = 'c1ccc2c(c1)N(C(N2C)c1c(cccc1)OC)C.Cl'\n",
        "\n",
        "add_to_df('o-MeO-DMBI-Cl', find_homo_lumo(omeodmbicl), smiles)"
      ]
    },
    {
      "cell_type": "code",
      "execution_count": 52,
      "metadata": {
        "colab": {
          "base_uri": "https://localhost:8080/"
        },
        "id": "Ui8VhNlVZoWN",
        "outputId": "5ddb35d7-b728-4920-b37f-b650bfb6bdc6"
      },
      "outputs": [],
      "source": [
        "aq = clean_data('/Users/reesaespera/Desktop/tjl/AQ/AQ.out')\n",
        "\n",
        "smiles = '[Na+].O=C1c2ccccc2C(=O)c2cc(S(=O)(=O)[O-])ccc21'\n",
        "\n",
        "add_to_df('AQ', find_homo_lumo(aq), smiles)"
      ]
    },
    {
      "cell_type": "code",
      "execution_count": 53,
      "metadata": {
        "colab": {
          "base_uri": "https://localhost:8080/"
        },
        "id": "lywD0NXcZ1Jr",
        "outputId": "6e6079b7-06e2-4849-bb97-28ba59669728"
      },
      "outputs": [],
      "source": [
        "dcm = clean_data('/Users/reesaespera/Desktop/tjl/DCM/DCM.out')\n",
        "smiles = 'CC1=CC(=C(C#N)C#N)C=C(/C=C/c2ccc(N(C)C)cc2)O1'\n",
        "\n",
        "add_to_df('DCM', find_homo_lumo(dcm), smiles)"
      ]
    },
    {
      "cell_type": "code",
      "execution_count": 54,
      "metadata": {
        "colab": {
          "base_uri": "https://localhost:8080/"
        },
        "id": "epyIMKI6gyUp",
        "outputId": "f4fa9eb3-6a7b-48b5-83d0-f4a98ee7ce8e"
      },
      "outputs": [],
      "source": [
        "rhob = clean_data('/Users/reesaespera/Desktop/tjl/RhoB/Rho_B.out')\n",
        "smiles = 'CCN(CC)c1ccc2c(c1)oc1c(c2c2c(cccc2)C(=O)O)ccc(=NCC)c1.[Cl-]'\n",
        "\n",
        "add_to_df('Rhodamine B', find_homo_lumo(rhob), smiles)"
      ]
    },
    {
      "cell_type": "code",
      "execution_count": 55,
      "metadata": {
        "colab": {
          "base_uri": "https://localhost:8080/"
        },
        "id": "W0IlJ_MUjbAS",
        "outputId": "f9ba1479-38be-4e02-b96c-06726630c86e"
      },
      "outputs": [],
      "source": [
        "f4dmdcq = clean_data('/Users/reesaespera/Desktop/tjl/F4-DMDCNQ/F4-DMDCNQ.out')\n",
        "smiles = 'FC(/C(C(F)=C/1F)=C(C#N)\\C(OC)=O)=C(F)C1=C(C#N)\\C(OC)=O'\n",
        "\n",
        "add_to_df('F4-DMDCNQ', find_homo_lumo(f4dmdcq), smiles)"
      ]
    },
    {
      "cell_type": "code",
      "execution_count": 56,
      "metadata": {
        "colab": {
          "base_uri": "https://localhost:8080/"
        },
        "id": "lx7JVta1o51T",
        "outputId": "e86d686a-f100-420b-e082-af94d440f736"
      },
      "outputs": [],
      "source": [
        "hatcn6 = clean_data('/Users/reesaespera/Desktop/tjl/HAT-CN6/HAT-CN6.out')\n",
        "smiles = 'N#Cc1nc2c3nc(C#N)c(C#N)nc3c3nc(C#N)c(C#N)nc3c2nc1C#N'\n",
        "\n",
        "add_to_df('HAT-CN6', find_homo_lumo(hatcn6), smiles)"
      ]
    },
    {
      "cell_type": "code",
      "execution_count": 57,
      "metadata": {
        "colab": {
          "base_uri": "https://localhost:8080/"
        },
        "id": "9r6X0Cl6pIxG",
        "outputId": "ce9ac82d-7863-4873-99b6-86e68d595f94"
      },
      "outputs": [],
      "source": [
        "dmbipoh = clean_data('/Users/reesaespera/Desktop/tjl/DMBI-POH/DMBI-POH.out')\n",
        "smiles = 'CN1C(c2ccccc2O)=[N+](C)c3ccccc31.[OH-]'\n",
        "\n",
        "add_to_df('DMBI-POH', find_homo_lumo(dmbipoh), smiles)"
      ]
    },
    {
      "cell_type": "code",
      "execution_count": 58,
      "metadata": {
        "colab": {
          "base_uri": "https://localhost:8080/"
        },
        "id": "UETbQ0HipWP4",
        "outputId": "76f68db3-1106-4b6f-a935-1b51f387bd40"
      },
      "outputs": [],
      "source": [
        "f4mctcnq = clean_data('/Users/reesaespera/Desktop/tjl/F4MCTCNQ/F4-MCTCNQ.out')\n",
        "smiles = 'FC(/C(C(F)=C/1F)=C(C#N)\\[N+]#[C-])=C(F)C1=C(C#N)\\C(OC)=O'\n",
        "\n",
        "add_to_df('F4-MCTCNQ', find_homo_lumo(f4mctcnq), smiles)"
      ]
    },
    {
      "cell_type": "code",
      "execution_count": 59,
      "metadata": {
        "colab": {
          "base_uri": "https://localhost:8080/"
        },
        "id": "ZToRfg9Mp7nS",
        "outputId": "dbd1f2ae-977a-4ed5-b643-0b5ef14b8c60"
      },
      "outputs": [],
      "source": [
        "i2 = clean_data('/Users/reesaespera/Desktop/tjl/I2/I2.out')\n",
        "smiles = 'II'\n",
        "\n",
        "add_to_df('I2', find_homo_lumo(i2), smiles)"
      ]
    },
    {
      "cell_type": "code",
      "execution_count": 60,
      "metadata": {
        "colab": {
          "base_uri": "https://localhost:8080/"
        },
        "id": "RZngU-B9qYj-",
        "outputId": "c41ede96-a186-4466-ee50-ced15d5dff18"
      },
      "outputs": [],
      "source": [
        "moo3 = clean_data('/Users/reesaespera/Desktop/tjl/MoO3/MoO3.out')\n",
        "smiles = 'O=[Mo](=O)=O'\n",
        "\n",
        "add_to_df('MoO3', find_homo_lumo(moo3), smiles)"
      ]
    },
    {
      "cell_type": "code",
      "execution_count": 61,
      "metadata": {
        "colab": {
          "base_uri": "https://localhost:8080/"
        },
        "id": "4FT0V3bZt539",
        "outputId": "211f3d40-06eb-4861-9730-cb7238fcdfa3"
      },
      "outputs": [],
      "source": [
        "o2 = clean_data('/Users/reesaespera/Desktop/tjl/O2/O2.out')\n",
        "smiles = 'O=O'\n",
        "\n",
        "add_to_df('O2', find_homo_lumo(o2), smiles)"
      ]
    },
    {
      "cell_type": "code",
      "execution_count": null,
      "metadata": {
        "colab": {
          "base_uri": "https://localhost:8080/",
          "height": 496
        },
        "id": "0eFuubTDuDFA",
        "outputId": "f2d5a0f6-da6b-4573-94e8-7f80f2ba196c"
      },
      "outputs": [
        {
          "name": "stdout",
          "output_type": "stream",
          "text": [
            "Cloning into 'Reesa_Archana'...\n",
            "remote: Enumerating objects: 972, done.\u001b[K\n",
            "remote: Counting objects: 100% (198/198), done.\u001b[K\n",
            "remote: Compressing objects: 100% (148/148), done.\u001b[K\n",
            "remote: Total 972 (delta 51), reused 163 (delta 47), pack-reused 774\u001b[K\n",
            "Receiving objects: 100% (972/972), 257.83 MiB | 25.60 MiB/s, done.\n",
            "Resolving deltas: 100% (302/302), done.\n",
            "Updating files: 100% (584/584), done.\n"
          ]
        },
        {
          "ename": "IndexError",
          "evalue": "ignored",
          "output_type": "error",
          "traceback": [
            "\u001b[0;31m---------------------------------------------------------------------------\u001b[0m",
            "\u001b[0;31mIndexError\u001b[0m                                Traceback (most recent call last)",
            "\u001b[0;32m<ipython-input-55-3b130678c0c7>\u001b[0m in \u001b[0;36m<cell line: 3>\u001b[0;34m()\u001b[0m\n\u001b[1;32m      1\u001b[0m \u001b[0mget_ipython\u001b[0m\u001b[0;34m(\u001b[0m\u001b[0;34m)\u001b[0m\u001b[0;34m.\u001b[0m\u001b[0msystem\u001b[0m\u001b[0;34m(\u001b[0m\u001b[0;34m'git clone https://github.com/archana-verma/Reesa_Archana.git'\u001b[0m\u001b[0;34m)\u001b[0m\u001b[0;34m\u001b[0m\u001b[0;34m\u001b[0m\u001b[0m\n\u001b[1;32m      2\u001b[0m \u001b[0mos\u001b[0m\u001b[0;34m.\u001b[0m\u001b[0mchdir\u001b[0m\u001b[0;34m(\u001b[0m\u001b[0;34m'./Reesa_Archana/ReO3'\u001b[0m\u001b[0;34m)\u001b[0m\u001b[0;34m\u001b[0m\u001b[0;34m\u001b[0m\u001b[0m\n\u001b[0;32m----> 3\u001b[0;31m \u001b[0mreo3\u001b[0m \u001b[0;34m=\u001b[0m \u001b[0mclean_data\u001b[0m\u001b[0;34m(\u001b[0m\u001b[0;34m'ReO3.out'\u001b[0m\u001b[0;34m)\u001b[0m\u001b[0;34m\u001b[0m\u001b[0;34m\u001b[0m\u001b[0m\n\u001b[0m\u001b[1;32m      4\u001b[0m \u001b[0msmiles\u001b[0m \u001b[0;34m=\u001b[0m \u001b[0;34m'O=[Re](=O)=O'\u001b[0m\u001b[0;34m\u001b[0m\u001b[0;34m\u001b[0m\u001b[0m\n\u001b[1;32m      5\u001b[0m \u001b[0;34m\u001b[0m\u001b[0m\n",
            "\u001b[0;32m<ipython-input-4-b88a4887bacc>\u001b[0m in \u001b[0;36mclean_data\u001b[0;34m(filename)\u001b[0m\n\u001b[1;32m      5\u001b[0m \u001b[0;34m\u001b[0m\u001b[0m\n\u001b[1;32m      6\u001b[0m \u001b[0;32mdef\u001b[0m \u001b[0mclean_data\u001b[0m\u001b[0;34m(\u001b[0m\u001b[0mfilename\u001b[0m\u001b[0;34m)\u001b[0m\u001b[0;34m:\u001b[0m\u001b[0;34m\u001b[0m\u001b[0;34m\u001b[0m\u001b[0m\n\u001b[0;32m----> 7\u001b[0;31m   \u001b[0morbital_list\u001b[0m \u001b[0;34m=\u001b[0m \u001b[0mfind_orbitals\u001b[0m\u001b[0;34m(\u001b[0m\u001b[0mfilename\u001b[0m\u001b[0;34m)\u001b[0m\u001b[0;34m\u001b[0m\u001b[0;34m\u001b[0m\u001b[0m\n\u001b[0m\u001b[1;32m      8\u001b[0m   \u001b[0mrows\u001b[0m \u001b[0;34m=\u001b[0m \u001b[0;34m[\u001b[0m\u001b[0;34m]\u001b[0m\u001b[0;34m\u001b[0m\u001b[0;34m\u001b[0m\u001b[0m\n\u001b[1;32m      9\u001b[0m \u001b[0;34m\u001b[0m\u001b[0m\n",
            "\u001b[0;32m<ipython-input-3-6d6c873a0c12>\u001b[0m in \u001b[0;36mfind_orbitals\u001b[0;34m(filename)\u001b[0m\n\u001b[1;32m     22\u001b[0m           \u001b[0minner_orbitals\u001b[0m\u001b[0;34m.\u001b[0m\u001b[0mappend\u001b[0m\u001b[0;34m(\u001b[0m\u001b[0mline\u001b[0m\u001b[0;34m)\u001b[0m\u001b[0;34m\u001b[0m\u001b[0;34m\u001b[0m\u001b[0m\n\u001b[1;32m     23\u001b[0m \u001b[0;34m\u001b[0m\u001b[0m\n\u001b[0;32m---> 24\u001b[0;31m   \u001b[0;32mreturn\u001b[0m \u001b[0morbitals\u001b[0m\u001b[0;34m[\u001b[0m\u001b[0;34m-\u001b[0m\u001b[0;36m1\u001b[0m\u001b[0;34m]\u001b[0m\u001b[0;34m\u001b[0m\u001b[0;34m\u001b[0m\u001b[0m\n\u001b[0m",
            "\u001b[0;31mIndexError\u001b[0m: list index out of range"
          ]
        }
      ],
      "source": [
        "!git clone https://github.com/archana-verma/Reesa_Archana.git\n",
        "os.chdir('./Reesa_Archana/ReO3')\n",
        "reo3 = clean_data('ReO3.out')\n",
        "smiles = 'O=[Re](=O)=O'\n",
        "\n",
        "add_to_df('ReO3', find_homo_lumo(reo3), smiles)"
      ]
    },
    {
      "cell_type": "code",
      "execution_count": 62,
      "metadata": {
        "colab": {
          "base_uri": "https://localhost:8080/"
        },
        "id": "N1VzOiKRuQAq",
        "outputId": "c8770552-619a-4846-d8b0-70bfaa9d4202"
      },
      "outputs": [],
      "source": [
        "wo3 = clean_data('/Users/reesaespera/Desktop/tjl/WO3/WO3.out')\n",
        "smiles = 'O=[W](=O)=O'\n",
        "\n",
        "add_to_df('WO3', find_homo_lumo(wo3), smiles)"
      ]
    },
    {
      "cell_type": "code",
      "execution_count": 63,
      "metadata": {
        "colab": {
          "base_uri": "https://localhost:8080/"
        },
        "id": "DSlMkH9Bb6AM",
        "outputId": "1a338f11-c340-4d3f-da07-0bc3fd3e2dd0"
      },
      "outputs": [],
      "source": [
        "balq3 = clean_data('/Users/reesaespera/Desktop/tjl/BAlq3/BAlq3.out')\n",
        "smiles = 'CC(C=C1)=NC2=C1C=CC=C2OAlOC5=CC=CC6=C5N=CC=C6'\n",
        "\n",
        "add_to_df('BAlq3', find_homo_lumo(balq3), smiles)"
      ]
    },
    {
      "cell_type": "code",
      "execution_count": null,
      "metadata": {
        "colab": {
          "base_uri": "https://localhost:8080/",
          "height": 496
        },
        "id": "f5r7OXBdcKIM",
        "outputId": "c2b79343-e669-4663-c53f-80cdd6d2b0c9"
      },
      "outputs": [
        {
          "name": "stdout",
          "output_type": "stream",
          "text": [
            "Cloning into 'Reesa_Archana'...\n",
            "remote: Enumerating objects: 972, done.\u001b[K\n",
            "remote: Counting objects: 100% (198/198), done.\u001b[K\n",
            "remote: Compressing objects: 100% (148/148), done.\u001b[K\n",
            "remote: Total 972 (delta 51), reused 163 (delta 47), pack-reused 774\u001b[K\n",
            "Receiving objects: 100% (972/972), 257.83 MiB | 27.72 MiB/s, done.\n",
            "Resolving deltas: 100% (302/302), done.\n",
            "Updating files: 100% (584/584), done.\n"
          ]
        },
        {
          "ename": "IndexError",
          "evalue": "ignored",
          "output_type": "error",
          "traceback": [
            "\u001b[0;31m---------------------------------------------------------------------------\u001b[0m",
            "\u001b[0;31mIndexError\u001b[0m                                Traceback (most recent call last)",
            "\u001b[0;32m<ipython-input-58-8a85e5211d93>\u001b[0m in \u001b[0;36m<cell line: 3>\u001b[0;34m()\u001b[0m\n\u001b[1;32m      1\u001b[0m \u001b[0mget_ipython\u001b[0m\u001b[0;34m(\u001b[0m\u001b[0;34m)\u001b[0m\u001b[0;34m.\u001b[0m\u001b[0msystem\u001b[0m\u001b[0;34m(\u001b[0m\u001b[0;34m'git clone https://github.com/archana-verma/Reesa_Archana.git'\u001b[0m\u001b[0;34m)\u001b[0m\u001b[0;34m\u001b[0m\u001b[0;34m\u001b[0m\u001b[0m\n\u001b[1;32m      2\u001b[0m \u001b[0mos\u001b[0m\u001b[0;34m.\u001b[0m\u001b[0mchdir\u001b[0m\u001b[0;34m(\u001b[0m\u001b[0;34m'./Reesa_Archana/CN6-CP-TBA'\u001b[0m\u001b[0;34m)\u001b[0m\u001b[0;34m\u001b[0m\u001b[0;34m\u001b[0m\u001b[0m\n\u001b[0;32m----> 3\u001b[0;31m \u001b[0mcn6\u001b[0m \u001b[0;34m=\u001b[0m \u001b[0mclean_data\u001b[0m\u001b[0;34m(\u001b[0m\u001b[0;34m'CN6-CP-TBA.out'\u001b[0m\u001b[0;34m)\u001b[0m\u001b[0;34m\u001b[0m\u001b[0;34m\u001b[0m\u001b[0m\n\u001b[0m\u001b[1;32m      4\u001b[0m \u001b[0msmiles\u001b[0m \u001b[0;34m=\u001b[0m \u001b[0;34m'CCCCN+(CCCC)CCCC.N#Cc(C#N)[c-]1c(c1c(C#N)C#N)c(C#N)C#N'\u001b[0m\u001b[0;34m\u001b[0m\u001b[0;34m\u001b[0m\u001b[0m\n\u001b[1;32m      5\u001b[0m \u001b[0;34m\u001b[0m\u001b[0m\n",
            "\u001b[0;32m<ipython-input-4-b88a4887bacc>\u001b[0m in \u001b[0;36mclean_data\u001b[0;34m(filename)\u001b[0m\n\u001b[1;32m      5\u001b[0m \u001b[0;34m\u001b[0m\u001b[0m\n\u001b[1;32m      6\u001b[0m \u001b[0;32mdef\u001b[0m \u001b[0mclean_data\u001b[0m\u001b[0;34m(\u001b[0m\u001b[0mfilename\u001b[0m\u001b[0;34m)\u001b[0m\u001b[0;34m:\u001b[0m\u001b[0;34m\u001b[0m\u001b[0;34m\u001b[0m\u001b[0m\n\u001b[0;32m----> 7\u001b[0;31m   \u001b[0morbital_list\u001b[0m \u001b[0;34m=\u001b[0m \u001b[0mfind_orbitals\u001b[0m\u001b[0;34m(\u001b[0m\u001b[0mfilename\u001b[0m\u001b[0;34m)\u001b[0m\u001b[0;34m\u001b[0m\u001b[0;34m\u001b[0m\u001b[0m\n\u001b[0m\u001b[1;32m      8\u001b[0m   \u001b[0mrows\u001b[0m \u001b[0;34m=\u001b[0m \u001b[0;34m[\u001b[0m\u001b[0;34m]\u001b[0m\u001b[0;34m\u001b[0m\u001b[0;34m\u001b[0m\u001b[0m\n\u001b[1;32m      9\u001b[0m \u001b[0;34m\u001b[0m\u001b[0m\n",
            "\u001b[0;32m<ipython-input-3-6d6c873a0c12>\u001b[0m in \u001b[0;36mfind_orbitals\u001b[0;34m(filename)\u001b[0m\n\u001b[1;32m     22\u001b[0m           \u001b[0minner_orbitals\u001b[0m\u001b[0;34m.\u001b[0m\u001b[0mappend\u001b[0m\u001b[0;34m(\u001b[0m\u001b[0mline\u001b[0m\u001b[0;34m)\u001b[0m\u001b[0;34m\u001b[0m\u001b[0;34m\u001b[0m\u001b[0m\n\u001b[1;32m     23\u001b[0m \u001b[0;34m\u001b[0m\u001b[0m\n\u001b[0;32m---> 24\u001b[0;31m   \u001b[0;32mreturn\u001b[0m \u001b[0morbitals\u001b[0m\u001b[0;34m[\u001b[0m\u001b[0;34m-\u001b[0m\u001b[0;36m1\u001b[0m\u001b[0;34m]\u001b[0m\u001b[0;34m\u001b[0m\u001b[0;34m\u001b[0m\u001b[0m\n\u001b[0m",
            "\u001b[0;31mIndexError\u001b[0m: list index out of range"
          ]
        }
      ],
      "source": [
        "!git clone https://github.com/archana-verma/Reesa_Archana.git\n",
        "os.chdir('./Reesa_Archana/CN6-CP-TBA')\n",
        "cn6 = clean_data('CN6-CP-TBA.out')\n",
        "smiles = 'CCCCN+(CCCC)CCCC.N#Cc(C#N)[c-]1c(c1c(C#N)C#N)c(C#N)C#N'\n",
        "\n",
        "add_to_df('CN6-CP-TBA', find_homo_lumo(cn6), smiles)"
      ]
    },
    {
      "cell_type": "code",
      "execution_count": 64,
      "metadata": {
        "colab": {
          "base_uri": "https://localhost:8080/"
        },
        "id": "5ED3K1fTcmxk",
        "outputId": "04846c2e-97c6-4391-b264-4b6da807756b"
      },
      "outputs": [],
      "source": [
        "f34 = clean_data('/Users/reesaespera/Desktop/tjl/F3-R-TCNQ/F3-R-TCNQ.out')\n",
        "smiles = 'FC1=C(F)/C(C(F)=C(C)/C1=C(C#N)/C#N)=C(C#N)/C#N'\n",
        "\n",
        "add_to_df('F3-R-TCNQ', find_homo_lumo(f34), smiles)"
      ]
    },
    {
      "cell_type": "code",
      "execution_count": 65,
      "metadata": {
        "colab": {
          "base_uri": "https://localhost:8080/"
        },
        "id": "tS9peT1wcwRI",
        "outputId": "58e26e23-82e4-4ecf-c0c8-d0385fc718cb"
      },
      "outputs": [],
      "source": [
        "f4r = clean_data('/Users/reesaespera/Desktop/tjl/F4-R-TCNQ/F4-R-TCNQ.out')\n",
        "smiles = 'FC1=C(F)/C(C(F)=C(F)/C1=C(C(OC)=O)/C#N)=C(C#N)/C#N'\n",
        "\n",
        "add_to_df('F4-R-TCNQ', find_homo_lumo(f4r), smiles)"
      ]
    },
    {
      "cell_type": "code",
      "execution_count": 66,
      "metadata": {
        "colab": {
          "base_uri": "https://localhost:8080/"
        },
        "id": "gyfSJey1c5S9",
        "outputId": "820a5a16-9cf0-4dd0-890a-63acdc9ced8b"
      },
      "outputs": [],
      "source": [
        "f4o = clean_data('/Users/reesaespera/Desktop/tjl/F4OCTCNQ/F4OCTCNQ.out')\n",
        "smiles = 'FC(/C(C(F)=C/1F)=C(C#N)\\[N+]#[C-])=C(F)C1=C(C#N)\\C(OCC(C)CCCCC)=O'\n",
        "\n",
        "add_to_df('F4OCTCNQ', find_homo_lumo(f4o), smiles)"
      ]
    },
    {
      "cell_type": "code",
      "execution_count": 70,
      "metadata": {
        "colab": {
          "base_uri": "https://localhost:8080/"
        },
        "id": "-pvV5JE0dHRM",
        "outputId": "d0bf5bbc-c57a-40b4-93ee-f944e727ffea"
      },
      "outputs": [],
      "source": [
        "meo = clean_data('/Users/reesaespera/Desktop/tjl/MeO-TPD/MeO-TPD.out')\n",
        "smiles = 'COc1ccc(N(c2ccc(OC)cc2)c2ccc(-c3ccc(N(c4ccc(OC)cc4)c4ccc(OC)cc4)cc3)cc2)cc1'\n",
        "\n",
        "add_to_df('MeO-TPD', find_homo_lumo(meo), smiles)"
      ]
    },
    {
      "cell_type": "code",
      "execution_count": 71,
      "metadata": {
        "id": "kPZ_G08x5_s_"
      },
      "outputs": [],
      "source": [
        "full_df.to_csv('Dopants.csv')"
      ]
    }
  ],
  "metadata": {
    "colab": {
      "provenance": []
    },
    "kernelspec": {
      "display_name": "Python 3",
      "name": "python3"
    },
    "language_info": {
      "codemirror_mode": {
        "name": "ipython",
        "version": 3
      },
      "file_extension": ".py",
      "mimetype": "text/x-python",
      "name": "python",
      "nbconvert_exporter": "python",
      "pygments_lexer": "ipython3",
      "version": "3.10.5"
    }
  },
  "nbformat": 4,
  "nbformat_minor": 0
}
