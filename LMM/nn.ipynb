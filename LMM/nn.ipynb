{
 "cells": [
  {
   "cell_type": "code",
   "execution_count": 1,
   "metadata": {},
   "outputs": [],
   "source": [
    "import numpy as np\n",
    "import tensorflow as tf\n",
    "from sklearn.model_selection import GridSearchCV, RepeatedKFold\n",
    "from tensorflow.keras.models import Sequential\n",
    "from tensorflow.keras import optimizers\n",
    "from tensorflow.keras.layers import Dense, Dropout, BatchNormalization\n",
    "from scikeras.wrappers import KerasRegressor\n",
    "import pandas as pd\n",
    "from sklearn.model_selection import train_test_split\n",
    "from sklearn.metrics import mean_squared_error, r2_score\n"
   ]
  },
  {
   "cell_type": "code",
   "execution_count": 2,
   "metadata": {},
   "outputs": [],
   "source": [
    "data = pd.read_csv('All.csv')\n",
    "\n",
    "data = data.drop(data.columns[0], axis=1)\n",
    "data.replace([np.inf, -np.inf], np.nan, inplace=True)\n",
    "data = data.dropna()\n",
    "\n",
    "y = data['LUMO']\n",
    "X = data.loc[:, ['MolWt', 'HvAtMolWt', 'RadE', 'ValE', 'NHOH', 'H', 'NO', 'HAcc', 'HDon', 'Rings', 'AlRing',\n",
    "                 'AroRing', 'SatRing', 'AroCarb', 'AroHet', 'Heteroatoms', 'RotBond', 'SatCarb', 'SatHet', 'C',\n",
    "                 'N', 'F', 'Halogens', 'Double', 'Triple', 'MaxAbsPartCh', 'MaxPartCh', 'MinPartCh', 'MinAbsPartCh', 'Group']]\n",
    "list_numerical = X.columns\n",
    "\n",
    "\n",
    "# split data\n",
    "X_train, X_test, y_train, y_test = train_test_split(X, y, test_size=0.2, random_state=10)"
   ]
  },
  {
   "cell_type": "code",
   "execution_count": 5,
   "metadata": {},
   "outputs": [],
   "source": [
    "def create_new_model():\n",
    " # create model\n",
    " model = Sequential()\n",
    " model.add(Dense(29, input_shape=(30,), activation='relu'))\n",
    " model.add(BatchNormalization())\n",
    " model.add(Dense(30, activation='relu'))\n",
    " model.add(BatchNormalization())\n",
    " model.add(Dropout(rate=0.2))\n",
    " model.add(BatchNormalization())\n",
    " model.add(Dense(10, activation='relu'))\n",
    " model.add(BatchNormalization())\n",
    " model.add(Dense(1))\n",
    " # Compile model\n",
    " model.compile(loss='MeanSquaredError', optimizer='adam', metrics=['accuracy'])\n",
    " return model"
   ]
  },
  {
   "cell_type": "code",
   "execution_count": 6,
   "metadata": {},
   "outputs": [
    {
     "name": "stdout",
     "output_type": "stream",
     "text": [
      "Param for GS {'batch_size': 100, 'epochs': 50}\n",
      "CV score for GS 0.7754413123620442\n"
     ]
    },
    {
     "ename": "NameError",
     "evalue": "name 'naive_roc_auc_score' is not defined",
     "output_type": "error",
     "traceback": [
      "\u001b[0;31m---------------------------------------------------------------------------\u001b[0m",
      "\u001b[0;31mNameError\u001b[0m                                 Traceback (most recent call last)",
      "Cell \u001b[0;32mIn[6], line 16\u001b[0m\n\u001b[1;32m     14\u001b[0m \u001b[39mprint\u001b[39m(\u001b[39m\"\u001b[39m\u001b[39mParam for GS\u001b[39m\u001b[39m\"\u001b[39m, grid_cv\u001b[39m.\u001b[39mbest_params_)\n\u001b[1;32m     15\u001b[0m \u001b[39mprint\u001b[39m(\u001b[39m\"\u001b[39m\u001b[39mCV score for GS\u001b[39m\u001b[39m\"\u001b[39m, grid_cv\u001b[39m.\u001b[39mbest_score_)\n\u001b[0;32m---> 16\u001b[0m \u001b[39mprint\u001b[39m(\u001b[39m\"\u001b[39m\u001b[39mTrain AUC ROC Score for GS: \u001b[39m\u001b[39m\"\u001b[39m, naive_roc_auc_score(y_train, grid_cv\u001b[39m.\u001b[39mpredict(X_train)))\n\u001b[1;32m     17\u001b[0m \u001b[39mprint\u001b[39m(\u001b[39m\"\u001b[39m\u001b[39mTest AUC ROC Score for GS: \u001b[39m\u001b[39m\"\u001b[39m,naive_roc_auc_score(y_test, grid_cv\u001b[39m.\u001b[39mpredict(X_test)))\n\u001b[1;32m     18\u001b[0m \u001b[39mprint\u001b[39m(\u001b[39m'\u001b[39m\u001b[39mTrain Mean Absolute Error:\u001b[39m\u001b[39m'\u001b[39m, \u001b[39mabs\u001b[39m(grid_cv\u001b[39m.\u001b[39mpredict(X_train) \u001b[39m-\u001b[39m y_train), \u001b[39m'\u001b[39m\u001b[39mdegrees.\u001b[39m\u001b[39m'\u001b[39m)\n",
      "\u001b[0;31mNameError\u001b[0m: name 'naive_roc_auc_score' is not defined"
     ]
    }
   ],
   "source": [
    "seed = 7\n",
    "tf.random.set_seed(seed)\n",
    "# load dataset\n",
    "# create model\n",
    "model = KerasRegressor(model=create_new_model, verbose=0)\n",
    "# define the grid search parameters\n",
    "batch_size = [10, 20, 40, 60, 80, 100]\n",
    "epochs = [10, 50, 100]\n",
    "param_grid = dict(batch_size=batch_size, epochs=epochs)\n",
    "cv = RepeatedKFold(n_splits=10, n_repeats=3, random_state=1)\n",
    "grid = GridSearchCV(estimator=model, param_grid=param_grid, n_jobs=-1, cv=cv)\n",
    "grid_cv = grid.fit(X_train, y_train)\n",
    "# summarize results\n",
    "print(\"Param for GS\", grid_cv.best_params_)\n",
    "print(\"CV score for GS\", grid_cv.best_score_)\n",
    "# print(\"Train AUC ROC Score for GS: \", naive_roc_auc_score(y_train, grid_cv.predict(X_train)))\n",
    "# print(\"Test AUC ROC Score for GS: \",naive_roc_auc_score(y_test, grid_cv.predict(X_test)))\n",
    "print('Train Mean Absolute Error:', abs(grid_cv.predict(X_train) - y_train), 'degrees.')\n",
    "print('Test Mean Absolute Error:', abs(grid_cv.predict(X_test) - y_test), 'degrees.')\n",
    "\n",
    "# prediction = model.predict(X_test)\n",
    "# mse = mean_squared_error(y_test, prediction)\n",
    "# #calculate R-squared of regression model\n",
    "# r_squared = model.score(X_test, y_test)\n",
    "\n",
    "#view R-squared value\n",
    "print(\"Train R2: \", r2_score(y_train, grid_cv.predict(X_train)))\n",
    "print(\"Test R2: \", r2_score(y_test, grid_cv.predict(X_test)))\n",
    "# rmse = mse**.5\n",
    "print(\"Train MSE: \", mean_squared_error(y_train, grid_cv.predict(X_train)))\n",
    "print(\"Test MSE: \", mean_squared_error(y_test, grid_cv.predict(X_test)))"
   ]
  },
  {
   "cell_type": "code",
   "execution_count": null,
   "metadata": {},
   "outputs": [],
   "source": []
  }
 ],
 "metadata": {
  "kernelspec": {
   "display_name": "Python 3",
   "language": "python",
   "name": "python3"
  },
  "language_info": {
   "codemirror_mode": {
    "name": "ipython",
    "version": 3
   },
   "file_extension": ".py",
   "mimetype": "text/x-python",
   "name": "python",
   "nbconvert_exporter": "python",
   "pygments_lexer": "ipython3",
   "version": "3.10.5"
  },
  "orig_nbformat": 4
 },
 "nbformat": 4,
 "nbformat_minor": 2
}
