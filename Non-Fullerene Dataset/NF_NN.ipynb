{
 "cells": [
  {
   "cell_type": "code",
   "execution_count": 6,
   "metadata": {},
   "outputs": [],
   "source": [
    "import numpy as np\n",
    "import tensorflow as tf\n",
    "from sklearn.model_selection import GridSearchCV, RepeatedKFold\n",
    "from tensorflow.keras.models import Sequential\n",
    "from tensorflow.keras.layers import Dense, Dropout, BatchNormalization\n",
    "from scikeras.wrappers import KerasRegressor\n",
    "import pandas as pd\n",
    "from sklearn.model_selection import train_test_split\n",
    "from sklearn.metrics import mean_squared_error, r2_score\n",
    "from sklearn.preprocessing import StandardScaler\n",
    "import matplotlib.pyplot as plt"
   ]
  },
  {
   "cell_type": "code",
   "execution_count": 2,
   "metadata": {},
   "outputs": [],
   "source": [
    "def naive_roc_auc_score(y_true, y_pred):\n",
    "  \n",
    "  y_true = y_true.to_numpy()\n",
    "  \n",
    "  num_same_sign = 0\n",
    "  num_pairs = 0\n",
    "  \n",
    "  for a in range(len(y_true)):\n",
    "    for b in range(len(y_true)):\n",
    "      if y_true[a] > y_true[b]:\n",
    "        num_pairs += 1\n",
    "        if y_pred[a] > y_pred[b]:\n",
    "          num_same_sign += 1\n",
    "        elif y_pred[a] == y_pred[b]:\n",
    "          num_same_sign += .5\n",
    "        \n",
    "  return num_same_sign / num_pairs\n",
    "\n",
    "# score = make_scorer(naive_roc_auc_score, greater_is_better=True)"
   ]
  },
  {
   "cell_type": "code",
   "execution_count": 20,
   "metadata": {},
   "outputs": [],
   "source": [
    "def create_model():\n",
    " # create model\n",
    " model = Sequential()\n",
    " model.add(Dense(29, input_shape=(29,), activation='relu'))\n",
    "#  model.add(Dense(12, activation='relu'))\n",
    "#  model.add(Dense(12, activation='relu'))\n",
    "#  model.add(Dense(12, activation='relu'))\n",
    "#  model.add(Dense(12, activation='relu'))\n",
    "#  model.add(Dense(12, activation='relu'))\n",
    " model.add(Dense(60, activation='relu'))\n",
    "#  model.add(Dense(20, activation='relu'))\n",
    " model.add(Dropout(rate=0.2))\n",
    " model.add(Dense(10, activation='relu'))\n",
    " model.add(Dense(1))\n",
    " # Compile model\n",
    " model.compile(loss='MeanSquaredError', optimizer='adam', metrics=['accuracy'])\n",
    " return model"
   ]
  },
  {
   "cell_type": "code",
   "execution_count": 3,
   "metadata": {},
   "outputs": [],
   "source": [
    "data = pd.read_csv('NF_Descriptors.csv')\n",
    "data = data.dropna()\n",
    "y = data['LUMO_calc']\n",
    "X = data.loc[:, ['Molecular Weight', 'Heavy Atom Molecular Weight', 'Max Absolute Partial Charge', 'Max Partial Charge', \n",
    "         'Min Abs Partial Charge', 'Min Partial Charge', 'Radical Electrons', 'Valence Electrons', 'NHOH Count', 'NO Count',\n",
    "         'H Acceptors', 'H Donors', 'Ring Count', 'Aliphatic Rings', 'Aromatic Rings', 'Saturated Rings', 'Aromatic Carbocycles',\n",
    "         'Aromatic Heterocycles', 'Heteroatoms', 'Rotatable Bonds', 'Saturated Carbocycles', 'Saturated Heterocycles', 'H Count',\n",
    "         'C Count', 'N Count', 'F Count', 'Halogen Count', 'Double Bonds', 'Triple Bonds']]\n",
    "list_numerical = X.columns\n",
    "\n",
    "\n",
    "# split data\n",
    "X_train, X_test, y_train, y_test = train_test_split(X, y, test_size=0.2, random_state=10)\n",
    "\n",
    "scaler = StandardScaler().fit(X_train[list_numerical])\n",
    "X_train[list_numerical] = scaler.transform(X_train[list_numerical])\n",
    "X_test[list_numerical] = scaler.transform(X_test[list_numerical])"
   ]
  },
  {
   "cell_type": "code",
   "execution_count": 21,
   "metadata": {},
   "outputs": [
    {
     "name": "stdout",
     "output_type": "stream",
     "text": [
      "Param for GS {'batch_size': 20, 'epochs': 100}\n",
      "CV score for GS 0.8230442262731039\n",
      "Train AUC ROC Score for GS:  0.8747921080114418\n",
      "Test AUC ROC Score for GS:  0.868978255295895\n",
      "Train Mean Absolute Error: 33399    0.068771\n",
      "33689    0.296220\n",
      "15746    0.143852\n",
      "29123    0.020671\n",
      "7868     0.125064\n",
      "           ...   \n",
      "28017    0.047339\n",
      "50496    0.115201\n",
      "29199    0.356961\n",
      "40061    0.141767\n",
      "17673    0.150412\n",
      "Name: LUMO_calc, Length: 41004, dtype: float64 degrees.\n",
      "Test Mean Absolute Error: 29860    0.080377\n",
      "46773    0.328464\n",
      "35540    0.687901\n",
      "42760    0.075365\n",
      "19319    0.078352\n",
      "           ...   \n",
      "27088    0.350704\n",
      "26941    0.067178\n",
      "46093    0.041595\n",
      "19342    0.443944\n",
      "47488    0.731802\n",
      "Name: LUMO_calc, Length: 10252, dtype: float64 degrees.\n",
      "Train R2:  0.8228664563531438\n",
      "Test R2:  0.8112377462641004\n",
      "Train MSE:  0.05240812612508098\n",
      "Test MSE:  0.05617896455023825\n"
     ]
    }
   ],
   "source": [
    "seed = 7\n",
    "tf.random.set_seed(seed)\n",
    "# load dataset\n",
    "# create model\n",
    "model = KerasRegressor(model=create_model, verbose=0)\n",
    "# define the grid search parameters\n",
    "batch_size = [10, 20, 40, 60, 80, 100]\n",
    "epochs = [10, 50, 100]\n",
    "param_grid = dict(batch_size=batch_size, epochs=epochs)\n",
    "cv = RepeatedKFold(n_splits=10, n_repeats=3, random_state=1)\n",
    "grid = GridSearchCV(estimator=model, param_grid=param_grid, n_jobs=-1, cv=cv)\n",
    "grid_cv = grid.fit(X_train, y_train)\n",
    "# summarize results\n",
    "print(\"Param for GS\", grid_cv.best_params_)\n",
    "print(\"CV score for GS\", grid_cv.best_score_)\n",
    "print(\"Train AUC ROC Score for GS: \", naive_roc_auc_score(y_train, grid_cv.predict(X_train)))\n",
    "print(\"Test AUC ROC Score for GS: \",naive_roc_auc_score(y_test, grid_cv.predict(X_test)))\n",
    "print('Train Mean Absolute Error:', abs(grid_cv.predict(X_train) - y_train), 'degrees.')\n",
    "print('Test Mean Absolute Error:', abs(grid_cv.predict(X_test) - y_test), 'degrees.')\n",
    "\n",
    "# prediction = model.predict(X_test)\n",
    "# mse = mean_squared_error(y_test, prediction)\n",
    "# #calculate R-squared of regression model\n",
    "# r_squared = model.score(X_test, y_test)\n",
    "\n",
    "#view R-squared value\n",
    "print(\"Train R2: \", r2_score(y_train, grid_cv.predict(X_train)))\n",
    "print(\"Test R2: \", r2_score(y_test, grid_cv.predict(X_test)))\n",
    "# rmse = mse**.5\n",
    "print(\"Train MSE: \", mean_squared_error(y_train, grid_cv.predict(X_train)))\n",
    "print(\"Test MSE: \", mean_squared_error(y_test, grid_cv.predict(X_test)))"
   ]
  },
  {
   "cell_type": "code",
   "execution_count": 4,
   "metadata": {},
   "outputs": [],
   "source": [
    "def create_new_model():\n",
    " # create model\n",
    " model = Sequential()\n",
    " model.add(Dense(29, input_shape=(29,), activation='relu'))\n",
    " model.add(BatchNormalization())\n",
    " model.add(Dense(30, activation='relu'))\n",
    " model.add(BatchNormalization())\n",
    " model.add(Dropout(rate=0.2))\n",
    " model.add(BatchNormalization())\n",
    " model.add(Dense(10, activation='relu'))\n",
    " model.add(BatchNormalization())\n",
    " model.add(Dense(1))\n",
    " # Compile model\n",
    " model.compile(loss='MeanSquaredError', optimizer='adam', metrics=['accuracy'])\n",
    " return model"
   ]
  },
  {
   "cell_type": "code",
   "execution_count": 5,
   "metadata": {},
   "outputs": [
    {
     "name": "stdout",
     "output_type": "stream",
     "text": [
      "Param for GS {'batch_size': 80, 'epochs': 100}\n",
      "CV score for GS 0.8183805289795674\n",
      "Train AUC ROC Score for GS:  0.8686261529464534\n",
      "Test AUC ROC Score for GS:  0.8648900906573395\n",
      "Train Mean Absolute Error: 33399    0.197348\n",
      "33689    0.207521\n",
      "15746    0.154289\n",
      "29123    0.029123\n",
      "7868     0.233069\n",
      "           ...   \n",
      "28017    0.095370\n",
      "50496    0.230497\n",
      "29199    0.270170\n",
      "40061    0.024812\n",
      "17673    0.340330\n",
      "Name: LUMO_calc, Length: 41004, dtype: float64 degrees.\n",
      "Test Mean Absolute Error: 29860    0.076758\n",
      "46773    0.446046\n",
      "35540    0.718989\n",
      "42760    0.058251\n",
      "19319    0.147516\n",
      "           ...   \n",
      "27088    0.411433\n",
      "26941    0.030661\n",
      "46093    0.020417\n",
      "19342    0.465848\n",
      "47488    0.605175\n",
      "Name: LUMO_calc, Length: 10252, dtype: float64 degrees.\n",
      "Train R2:  0.8277081788626701\n",
      "Test R2:  0.8198344069875744\n",
      "Train MSE:  0.050975615948195566\n",
      "Test MSE:  0.053620447217052704\n"
     ]
    }
   ],
   "source": [
    "seed = 7\n",
    "tf.random.set_seed(seed)\n",
    "# load dataset\n",
    "# create model\n",
    "model = KerasRegressor(model=create_new_model, verbose=0)\n",
    "# define the grid search parameters\n",
    "batch_size = [10, 20, 40, 60, 80, 100]\n",
    "epochs = [10, 50, 100]\n",
    "param_grid = dict(batch_size=batch_size, epochs=epochs)\n",
    "cv = RepeatedKFold(n_splits=10, n_repeats=3, random_state=1)\n",
    "grid = GridSearchCV(estimator=model, param_grid=param_grid, n_jobs=-1, cv=cv)\n",
    "grid_cv = grid.fit(X_train, y_train)\n",
    "# summarize results\n",
    "print(\"Param for GS\", grid_cv.best_params_)\n",
    "print(\"CV score for GS\", grid_cv.best_score_)\n",
    "print(\"Train AUC ROC Score for GS: \", naive_roc_auc_score(y_train, grid_cv.predict(X_train)))\n",
    "print(\"Test AUC ROC Score for GS: \",naive_roc_auc_score(y_test, grid_cv.predict(X_test)))\n",
    "print('Train Mean Absolute Error:', abs(grid_cv.predict(X_train) - y_train), 'degrees.')\n",
    "print('Test Mean Absolute Error:', abs(grid_cv.predict(X_test) - y_test), 'degrees.')\n",
    "\n",
    "# prediction = model.predict(X_test)\n",
    "# mse = mean_squared_error(y_test, prediction)\n",
    "# #calculate R-squared of regression model\n",
    "# r_squared = model.score(X_test, y_test)\n",
    "\n",
    "#view R-squared value\n",
    "print(\"Train R2: \", r2_score(y_train, grid_cv.predict(X_train)))\n",
    "print(\"Test R2: \", r2_score(y_test, grid_cv.predict(X_test)))\n",
    "# rmse = mse**.5\n",
    "print(\"Train MSE: \", mean_squared_error(y_train, grid_cv.predict(X_train)))\n",
    "print(\"Test MSE: \", mean_squared_error(y_test, grid_cv.predict(X_test)))"
   ]
  },
  {
   "cell_type": "code",
   "execution_count": 7,
   "metadata": {},
   "outputs": [
    {
     "data": {
      "image/png": "[encoded data removed]",
      "text/plain": [
       "<Figure size 640x480 with 1 Axes>"
      ]
     },
     "metadata": {},
     "output_type": "display_data"
    }
   ],
   "source": [
    "X_train, X_val, y_train, y_val = train_test_split(X_train, y_train, test_size=0.2, random_state=1)\n",
    "model.fit(X_train, y_train, epochs=100, batch_size=10, validation_data=(X_val, y_val))\n",
    "loss_train = model.history_['loss']\n",
    "loss_val = model.history_['val_loss']\n",
    "epochs = range(1,101)\n",
    "plt.plot(epochs, loss_train, 'g', label='Training loss')\n",
    "plt.plot(epochs, loss_val, 'b', label='validation loss')\n",
    "plt.title('Training and Validation loss')\n",
    "plt.xlabel('Epochs')\n",
    "plt.ylabel('Loss')\n",
    "plt.legend()\n",
    "plt.show()"
   ]
  },
  {
   "cell_type": "code",
   "execution_count": null,
   "metadata": {},
   "outputs": [],
   "source": []
  }
 ],
 "metadata": {
  "kernelspec": {
   "display_name": "Python 3",
   "language": "python",
   "name": "python3"
  },
  "language_info": {
   "codemirror_mode": {
    "name": "ipython",
    "version": 3
   },
   "file_extension": ".py",
   "mimetype": "text/x-python",
   "name": "python",
   "nbconvert_exporter": "python",
   "pygments_lexer": "ipython3",
   "version": "3.10.5"
  },
  "orig_nbformat": 4
 },
 "nbformat": 4,
 "nbformat_minor": 2
}
