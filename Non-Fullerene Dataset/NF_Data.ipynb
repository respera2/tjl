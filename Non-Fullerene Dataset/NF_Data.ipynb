{
 "cells": [
  {
   "cell_type": "code",
   "execution_count": 6,
   "metadata": {},
   "outputs": [],
   "source": [
    "# imports\n",
    "import pandas as pd\n",
    "import os\n",
    "import seaborn as sns\n",
    "import numpy as np\n",
    "\n",
    "from scipy import stats\n",
    "\n",
    "import matplotlib.pyplot as plt\n",
    "import matplotlib\n",
    "\n",
    "from rdkit import Chem\n",
    "from rdkit.Chem import AllChem\n",
    "\n",
    "from sklearn.model_selection import train_test_split\n",
    "from sklearn.linear_model import Lasso\n",
    "from sklearn.preprocessing import StandardScaler\n",
    "from sklearn.metrics import mean_squared_error, r2_score\n",
    "from sklearn.inspection import permutation_importance\n",
    "from sklearn.decomposition import PCA"
   ]
  },
  {
   "cell_type": "code",
   "execution_count": 7,
   "metadata": {},
   "outputs": [],
   "source": [
    "df = pd.read_csv('1-s2.0-S2542435117301307-mmc2.csv')"
   ]
  },
  {
   "cell_type": "code",
   "execution_count": 12,
   "metadata": {},
   "outputs": [],
   "source": [
    "import rdkit.Chem.Descriptors as d\n",
    "\n",
    "df['Molecular Weight'] = df['smiles'].apply(lambda x: d.ExactMolWt(Chem.MolFromSmiles(x)))\n",
    "df['Heavy Atom Molecular Weight'] = df['smiles'].apply(lambda x: d.HeavyAtomMolWt(Chem.MolFromSmiles(x)))\n",
    "df[\"Max Absolute Partial Charge\"] = df['smiles'].apply(lambda x: d.MaxAbsPartialCharge(Chem.MolFromSmiles(x)))\n",
    "df[\"Max Partial Charge\"] = df['smiles'].apply(lambda x: d.MaxPartialCharge(Chem.MolFromSmiles(x)))\n",
    "df[\"Min Abs Partial Charge\"] = df['smiles'].apply(lambda x: d.MinAbsPartialCharge(Chem.MolFromSmiles(x)))\n",
    "df[\"Min Partial Charge\"] = df['smiles'].apply(lambda x: d.MinPartialCharge(Chem.MolFromSmiles(x)))\n",
    "df[\"Molecular Weight\"] = df['smiles'].apply(lambda x: d.MolWt(Chem.MolFromSmiles(x)))\n",
    "df[\"Radical Electrons\"] = df['smiles'].apply(lambda x: d.NumRadicalElectrons(Chem.MolFromSmiles(x)))\n",
    "df[\"Valence Electrons\"] = df['smiles'].apply(lambda x: d.NumValenceElectrons(Chem.MolFromSmiles(x)))\n",
    "df[\"NHOH Count\"] = df['smiles'].apply(lambda x: d.NHOHCount(Chem.MolFromSmiles(x)))\n",
    "df[\"NO Count\"] = df['smiles'].apply(lambda x: d.NOCount(Chem.MolFromSmiles(x)))\n",
    "df[\"H Acceptors\"] = df['smiles'].apply(lambda x: d.NumHAcceptors(Chem.MolFromSmiles(x)))\n",
    "df[\"H Donors\"] = df['smiles'].apply(lambda x: d.NumHDonors(Chem.MolFromSmiles(x)))\n",
    "df[\"Ring Count\"] = df['smiles'].apply(lambda x: d.RingCount(Chem.MolFromSmiles(x)))\n",
    "df[\"Aliphatic Rings\"] = df['smiles'].apply(lambda x: d.NumAliphaticRings(Chem.MolFromSmiles(x)))\n",
    "df[\"Aromatic Rings\"] = df['smiles'].apply(lambda x: d.NumAromaticRings(Chem.MolFromSmiles(x)))\n",
    "df[\"Saturated Rings\"] = df['smiles'].apply(lambda x: d.NumSaturatedRings(Chem.MolFromSmiles(x)))\n",
    "df[\"Aromatic Carbocycles\"] = df['smiles'].apply(lambda x: d.NumAromaticCarbocycles(Chem.MolFromSmiles(x)))\n",
    "df[\"Aromatic Heterocycles\"] = df['smiles'].apply(lambda x: d.NumAromaticHeterocycles(Chem.MolFromSmiles(x)))\n",
    "df[\"Heteroatoms\"] = df['smiles'].apply(lambda x: d.NumHeteroatoms(Chem.MolFromSmiles(x)))\n",
    "df[\"Rotatable Bonds\"] = df['smiles'].apply(lambda x: d.NumRotatableBonds(Chem.MolFromSmiles(x)))\n",
    "df[\"Saturated Carbocycles\"] = df['smiles'].apply(lambda x: d.NumSaturatedCarbocycles(Chem.MolFromSmiles(x)))\n",
    "df[\"Saturated Heterocycles\"] = df['smiles'].apply(lambda x: d.NumSaturatedHeterocycles(Chem.MolFromSmiles(x)))"
   ]
  },
  {
   "cell_type": "code",
   "execution_count": 13,
   "metadata": {},
   "outputs": [],
   "source": [
    "from mordred import AtomCount\n",
    "from mordred import BondCount\n",
    "\n",
    "df[\"H Count\"] = df['smiles'].apply(lambda x: AtomCount.AtomCount('H')(Chem.MolFromSmiles(x)))\n",
    "df[\"C Count\"] = df['smiles'].apply(lambda x: AtomCount.AtomCount('C')(Chem.MolFromSmiles(x)))\n",
    "df[\"N Count\"] = df['smiles'].apply(lambda x: AtomCount.AtomCount('N')(Chem.MolFromSmiles(x)))\n",
    "df[\"F Count\"] = df['smiles'].apply(lambda x: AtomCount.AtomCount('F')(Chem.MolFromSmiles(x)))\n",
    "df[\"Halogen Count\"] = df['smiles'].apply(lambda x: AtomCount.AtomCount('X')(Chem.MolFromSmiles(x)))\n",
    "df[\"Double Bonds\"] = df['smiles'].apply(lambda x: BondCount.BondCount('double', False)(Chem.MolFromSmiles(x)))\n",
    "df[\"Triple Bonds\"] = df['smiles'].apply(lambda x: BondCount.BondCount('triple', False)(Chem.MolFromSmiles(x)))"
   ]
  },
  {
   "cell_type": "code",
   "execution_count": 19,
   "metadata": {},
   "outputs": [],
   "source": [
    "df = df.drop(columns=['GAP_calib', 'molW'])\n",
    "df.to_csv('NF_Descriptors.csv')"
   ]
  },
  {
   "cell_type": "code",
   "execution_count": null,
   "metadata": {},
   "outputs": [],
   "source": []
  }
 ],
 "metadata": {
  "kernelspec": {
   "display_name": "Python 3",
   "language": "python",
   "name": "python3"
  },
  "language_info": {
   "codemirror_mode": {
    "name": "ipython",
    "version": 3
   },
   "file_extension": ".py",
   "mimetype": "text/x-python",
   "name": "python",
   "nbconvert_exporter": "python",
   "pygments_lexer": "ipython3",
   "version": "3.10.5"
  },
  "orig_nbformat": 4
 },
 "nbformat": 4,
 "nbformat_minor": 2
}
