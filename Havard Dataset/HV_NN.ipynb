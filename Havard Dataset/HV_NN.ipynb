{
 "cells": [
  {
   "cell_type": "code",
   "execution_count": 2,
   "metadata": {},
   "outputs": [],
   "source": [
    "import numpy as np\n",
    "import tensorflow as tf\n",
    "from sklearn.model_selection import GridSearchCV, RepeatedKFold\n",
    "from tensorflow.keras.models import Sequential\n",
    "from tensorflow.keras.layers import Dense, Dropout\n",
    "from scikeras.wrappers import KerasRegressor\n",
    "import pandas as pd\n",
    "from sklearn.model_selection import train_test_split\n",
    "from sklearn.metrics import mean_squared_error, r2_score"
   ]
  },
  {
   "cell_type": "code",
   "execution_count": 3,
   "metadata": {},
   "outputs": [],
   "source": [
    "def naive_roc_auc_score(y_true, y_pred):\n",
    "  \n",
    "  y_true = y_true.to_numpy()\n",
    "  \n",
    "  num_same_sign = 0\n",
    "  num_pairs = 0\n",
    "  \n",
    "  for a in range(len(y_true)):\n",
    "    for b in range(len(y_true)):\n",
    "      if y_true[a] > y_true[b]:\n",
    "        num_pairs += 1\n",
    "        if y_pred[a] > y_pred[b]:\n",
    "          num_same_sign += 1\n",
    "        elif y_pred[a] == y_pred[b]:\n",
    "          num_same_sign += .5\n",
    "        \n",
    "  return num_same_sign / num_pairs\n",
    "\n",
    "# score = make_scorer(naive_roc_auc_score, greater_is_better=True)"
   ]
  },
  {
   "cell_type": "code",
   "execution_count": 11,
   "metadata": {},
   "outputs": [],
   "source": [
    "def create_model():\n",
    " # create model\n",
    " model = Sequential()\n",
    " model.add(Dense(29, input_shape=(29,), activation='relu'))\n",
    " model.add(Dense(29, activation='relu'))\n",
    " model.add(Dense(20, activation='relu'))\n",
    " model.add(Dropout(rate=0.2))\n",
    " model.add(Dense(15, activation='relu'))\n",
    " model.add(Dense(15, activation='relu'))\n",
    " model.add(Dense(12, activation='relu'))\n",
    " model.add(Dense(12, activation='relu'))\n",
    " model.add(Dropout(rate=0.2))\n",
    " model.add(Dense(12, activation='relu'))\n",
    " model.add(Dense(1))\n",
    " # Compile model\n",
    " model.compile(loss='MeanSquaredError', optimizer='adam', metrics=['accuracy'])\n",
    " return model"
   ]
  },
  {
   "cell_type": "code",
   "execution_count": 5,
   "metadata": {},
   "outputs": [],
   "source": [
    "data = pd.read_csv('Full_Descriptors.csv')\n",
    "\n",
    "# get data\n",
    "data.replace([np.inf, -np.inf], np.nan, inplace=True)\n",
    "data = data.dropna()\n",
    "y = data['LUMO']\n",
    "X = data.loc[:, ['Molecular Weight', 'Heavy Atom Molecular Weight', 'Max Absolute Partial Charge', 'Max Partial Charge', \n",
    "         'Min Abs Partial Charge', 'Min Partial Charge', 'Radical Electrons', 'Valence Electrons', 'NHOH Count', 'NO Count',\n",
    "         'H Acceptors', 'H Donors', 'Ring Count', 'Aliphatic Rings', 'Aromatic Rings', 'Saturated Rings', 'Aromatic Carbocycles',\n",
    "         'Aromatic Heterocycles', 'Heteroatoms', 'Rotatable Bonds', 'Saturated Carbocycles', 'Saturated Heterocycles', 'H Count',\n",
    "         'C Count', 'N Count', 'F Count', 'Halogen Count', 'Double Bonds', 'Triple Bonds']]\n",
    "list_numerical = X.columns\n",
    "\n",
    "\n",
    "# split data\n",
    "X_train, X_test, y_train, y_test = train_test_split(X, y, test_size=0.2, random_state=10)"
   ]
  },
  {
   "cell_type": "code",
   "execution_count": 12,
   "metadata": {},
   "outputs": [
    {
     "name": "stdout",
     "output_type": "stream",
     "text": [
      "Param for GS {'batch_size': 10, 'epochs': 50}\n",
      "CV score for GS -2.7303338635033114\n",
      "Train AUC ROC Score for GS:  0.5642099976208729\n",
      "Test AUC ROC Score for GS:  0.5117924528301887\n",
      "Train Mean Absolute Error: 187    0.005711\n",
      "140    0.009385\n",
      "289    0.005138\n",
      "315    0.000493\n",
      "294    0.007247\n",
      "         ...   \n",
      "124    0.051901\n",
      "321    0.001448\n",
      "16     0.004955\n",
      "126    0.010625\n",
      "266    0.003405\n",
      "Name: LUMO, Length: 279, dtype: float64 degrees.\n",
      "Test Mean Absolute Error: 173    0.011267\n",
      "112    0.001990\n",
      "98     0.003879\n",
      "190    0.007015\n",
      "57     0.002766\n",
      "         ...   \n",
      "195    0.012238\n",
      "79     0.006270\n",
      "101    0.002111\n",
      "209    0.006130\n",
      "127    0.004572\n",
      "Name: LUMO, Length: 70, dtype: float64 degrees.\n",
      "Train R2:  0.0129299486163994\n",
      "Test R2:  -0.166853641674789\n",
      "Train MSE:  0.0002200532311733865\n",
      "Test MSE:  0.00011350390199344315\n"
     ]
    }
   ],
   "source": [
    "seed = 7\n",
    "tf.random.set_seed(seed)\n",
    "# load dataset\n",
    "# create model\n",
    "model = KerasRegressor(model=create_model, verbose=0)\n",
    "# define the grid search parameters\n",
    "batch_size = [10, 20, 40, 60, 80, 100]\n",
    "epochs = [10, 50, 100]\n",
    "param_grid = dict(batch_size=batch_size, epochs=epochs)\n",
    "cv = RepeatedKFold(n_splits=10, n_repeats=3, random_state=1)\n",
    "grid = GridSearchCV(estimator=model, param_grid=param_grid, n_jobs=-1, cv=cv)\n",
    "grid_cv = grid.fit(X_train, y_train)\n",
    "# summarize results\n",
    "print(\"Param for GS\", grid_cv.best_params_)\n",
    "print(\"CV score for GS\", grid_cv.best_score_)\n",
    "print(\"Train AUC ROC Score for GS: \", naive_roc_auc_score(y_train, grid_cv.predict(X_train)))\n",
    "print(\"Test AUC ROC Score for GS: \",naive_roc_auc_score(y_test, grid_cv.predict(X_test)))\n",
    "print('Train Mean Absolute Error:', abs(grid_cv.predict(X_train) - y_train), 'degrees.')\n",
    "print('Test Mean Absolute Error:', abs(grid_cv.predict(X_test) - y_test), 'degrees.')\n",
    "\n",
    "# prediction = model.predict(X_test)\n",
    "# mse = mean_squared_error(y_test, prediction)\n",
    "# #calculate R-squared of regression model\n",
    "# r_squared = model.score(X_test, y_test)\n",
    "\n",
    "#view R-squared value\n",
    "print(\"Train R2: \", r2_score(y_train, grid_cv.predict(X_train)))\n",
    "print(\"Test R2: \", r2_score(y_test, grid_cv.predict(X_test)))\n",
    "# rmse = mse**.5\n",
    "print(\"Train MSE: \", mean_squared_error(y_train, grid_cv.predict(X_train)))\n",
    "print(\"Test MSE: \", mean_squared_error(y_test, grid_cv.predict(X_test)))"
   ]
  },
  {
   "cell_type": "code",
   "execution_count": null,
   "metadata": {},
   "outputs": [],
   "source": []
  }
 ],
 "metadata": {
  "kernelspec": {
   "display_name": "Python 3",
   "language": "python",
   "name": "python3"
  },
  "language_info": {
   "codemirror_mode": {
    "name": "ipython",
    "version": 3
   },
   "file_extension": ".py",
   "mimetype": "text/x-python",
   "name": "python",
   "nbconvert_exporter": "python",
   "pygments_lexer": "ipython3",
   "version": "3.10.5"
  },
  "orig_nbformat": 4
 },
 "nbformat": 4,
 "nbformat_minor": 2
}
