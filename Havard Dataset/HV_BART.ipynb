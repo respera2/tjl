{
 "cells": [
  {
   "cell_type": "code",
   "execution_count": null,
   "metadata": {},
   "outputs": [],
   "source": [
    "import arviz as az\n",
    "import matplotlib.pyplot as plt\n",
    "import numpy as np\n",
    "import pandas as pd\n",
    "# import pymc as pm\n",
    "# import pymc_bart as pmb\n",
    "\n",
    "from sklearn.model_selection import train_test_split\n",
    "from sklearn.ensemble import RandomForestRegressor\n",
    "from sklearn.metrics import mean_squared_error, make_scorer\n",
    "from sklearn.model_selection import GridSearchCV, RepeatedKFold"
   ]
  },
  {
   "cell_type": "code",
   "execution_count": null,
   "metadata": {},
   "outputs": [],
   "source": [
    "RANDOM_SEED = 5781\n",
    "np.random.seed(RANDOM_SEED)\n",
    "\n",
    "with pm.Model() as model_bikes:\n",
    "    α = pm.Exponential(\"α\", 1)\n",
    "    μ = pmb.BART(\"μ\", X_train, np.log(y_train), m=50)\n",
    "    y = pm.NegativeBinomial(\"y\", mu=pm.math.exp(μ), alpha=α, observed=y_train)\n",
    "    idata_bikes = pm.sample(compute_convergence_checks=False, random_seed=RANDOM_SEED)"
   ]
  }
 ],
 "metadata": {
  "language_info": {
   "name": "python"
  },
  "orig_nbformat": 4
 },
 "nbformat": 4,
 "nbformat_minor": 2
}
