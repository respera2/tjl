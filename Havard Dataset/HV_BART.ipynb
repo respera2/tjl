{
 "cells": [
  {
   "cell_type": "code",
   "execution_count": null,
   "metadata": {},
   "outputs": [],
   "source": [
    "import matplotlib.pyplot as plt\n",
    "import numpy as np\n",
    "import pandas as pd\n",
    "from bartpy.sklearnmodel import SklearnModel\n",
    "\n",
    "from sklearn.model_selection import train_test_split\n",
    "from sklearn.ensemble import RandomForestRegressor\n",
    "from sklearn.metrics import mean_squared_error, make_scorer\n",
    "from sklearn.model_selection import GridSearchCV, RepeatedKFold\n",
    "from sklearn.preprocessing import StandardScaler\n",
    "from sklearn.inspection import permutation_importance"
   ]
  },
  {
   "cell_type": "code",
   "execution_count": null,
   "metadata": {},
   "outputs": [],
   "source": [
    "def naive_roc_auc_score(y_true, y_pred):\n",
    "  \n",
    "  y_true = y_true.to_numpy()\n",
    "  \n",
    "  num_same_sign = 0\n",
    "  num_pairs = 0\n",
    "  \n",
    "  for a in range(len(y_true)):\n",
    "    for b in range(len(y_true)):\n",
    "      if y_true[a] > y_true[b]:\n",
    "        num_pairs += 1\n",
    "        if y_pred[a] > y_pred[b]:\n",
    "          num_same_sign += 1\n",
    "        elif y_pred[a] == y_pred[b]:\n",
    "          num_same_sign += .5\n",
    "        \n",
    "  return num_same_sign / num_pairs\n",
    "\n",
    "score = make_scorer(naive_roc_auc_score, greater_is_better=True)"
   ]
  },
  {
   "cell_type": "code",
   "execution_count": null,
   "metadata": {},
   "outputs": [],
   "source": [
    "data = pd.read_csv('Full_Descriptors.csv')\n",
    "data = data.dropna()\n",
    "y = data['LUMO']\n",
    "X = data.loc[:, ['Molecular Weight', 'Heavy Atom Molecular Weight', 'Max Absolute Partial Charge', 'Max Partial Charge', \n",
    "         'Min Abs Partial Charge', 'Min Partial Charge', 'Radical Electrons', 'Valence Electrons', 'NHOH Count', 'NO Count',\n",
    "         'H Acceptors', 'H Donors', 'Ring Count', 'Aliphatic Rings', 'Aromatic Rings', 'Saturated Rings', 'Aromatic Carbocycles',\n",
    "         'Aromatic Heterocycles', 'Heteroatoms', 'Rotatable Bonds', 'Saturated Carbocycles', 'Saturated Heterocycles', 'H Count',\n",
    "         'C Count', 'N Count', 'F Count', 'Halogen Count', 'Double Bonds', 'Triple Bonds']]\n",
    "list_numerical = X.columns\n",
    "\n",
    "\n",
    "# split data\n",
    "X_train, X_test, y_train, y_test = train_test_split(X, y, test_size=0.2, random_state=10)"
   ]
  },
  {
   "cell_type": "code",
   "execution_count": null,
   "metadata": {},
   "outputs": [],
   "source": [
    "model = SklearnModel(n_burn=50, n_chains=1, n_jobs=1, n_samples=50, n_trees=10)\n",
    "\n",
    "X_train, X_test, y_train, y_test = train_test_split(X, y, test_size=0.2, random_state=10)\n",
    "# scaler = StandardScaler().fit(X_train[list_numerical])\n",
    "# X_train[list_numerical] = scaler.transform(X_train[list_numerical])\n",
    "# X_test[list_numerical] = scaler.transform(X_test[list_numerical])\n",
    "\n",
    "model.fit(X_train, y_train)\n",
    "# plt.scatter(y_test, model.predict(X_test))\n",
    "# plt.scatter(X_test, y_test)"
   ]
  },
  {
   "cell_type": "code",
   "execution_count": null,
   "metadata": {},
   "outputs": [],
   "source": [
    "# Use the forest's predict method on the test data\n",
    "predictions = model.predict(X_test)\n",
    "# Calculate the absolute errors\n",
    "errors = abs(predictions - y_test)\n",
    "# Print out the mean absolute error (mae)\n",
    "print('Mean Absolute Error:', round(np.mean(errors), 2), 'degrees.')"
   ]
  },
  {
   "cell_type": "code",
   "execution_count": null,
   "metadata": {},
   "outputs": [],
   "source": [
    "from sklearn.metrics import mean_squared_error\n",
    "\n",
    "prediction = model.predict(X_test)\n",
    "mse = mean_squared_error(y_test, prediction)\n",
    "#calculate R-squared of regression model\n",
    "r_squared = model.score(X_test, y_test)\n",
    "\n",
    "#view R-squared value\n",
    "print(\"R2: \", r_squared)\n",
    "rmse = mse**.5\n",
    "print(\"MSE: \", mse)\n",
    "print(\"RMSE: \", rmse)"
   ]
  },
  {
   "cell_type": "code",
   "execution_count": null,
   "metadata": {},
   "outputs": [],
   "source": [
    "param_grid = {\n",
    "    \"n_burn\": [0,10,50,100],\n",
    "    \"n_chains\": [0,1,3,5,10,15,30],\n",
    "    \"n_trees\": [2,5,7,10,20],\n",
    "}\n",
    "\n",
    "cv = RepeatedKFold(n_splits=10, n_repeats=3, random_state=1)\n",
    "model = SklearnModel(n_burn=50, n_chains=1, n_jobs=1, n_samples=50, n_trees=10)\n",
    "grid_cv = GridSearchCV(model, param_grid, scoring=score, n_jobs=-1, cv=cv).fit(X_train, y_train)"
   ]
  },
  {
   "cell_type": "code",
   "execution_count": null,
   "metadata": {},
   "outputs": [],
   "source": [
    "model = SklearnModel(n_burn=50, n_chains=1, n_jobs=1, n_samples=50, n_trees=10)\n",
    "\n",
    "X_train, X_test, y_train, y_test = train_test_split(X, y, test_size=0.2, random_state=10)\n",
    "# scaler = StandardScaler().fit(X_train[list_numerical])\n",
    "# X_train[list_numerical] = scaler.transform(X_train[list_numerical])\n",
    "# X_test[list_numerical] = scaler.transform(X_test[list_numerical])\n",
    "\n",
    "model.fit(X_train, y_train)\n",
    "\n",
    "model.prediction_samples\n",
    "\n",
    "# sorted_idx = model.feature_importances_.argsort()\n",
    "# plt.barh(list_numerical[sorted_idx], rfr.feature_importances_[sorted_idx])\n",
    "# plt.xlabel(\"Random Forest Feature Importance\")\n",
    "# plt.title(\"LUMO\")"
   ]
  },
  {
   "cell_type": "code",
   "execution_count": null,
   "metadata": {},
   "outputs": [],
   "source": []
  }
 ],
 "metadata": {
  "kernelspec": {
   "display_name": "Python 3",
   "language": "python",
   "name": "python3"
  },
  "language_info": {
   "codemirror_mode": {
    "name": "ipython",
    "version": 3
   },
   "file_extension": ".py",
   "mimetype": "text/x-python",
   "name": "python",
   "nbconvert_exporter": "python",
   "pygments_lexer": "ipython3",
   "version": "3.10.5"
  },
  "orig_nbformat": 4
 },
 "nbformat": 4,
 "nbformat_minor": 2
}
